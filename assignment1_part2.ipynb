{
 "cells": [
  {
   "cell_type": "code",
   "execution_count": 2,
   "metadata": {},
   "outputs": [],
   "source": [
    "class Book:\n",
    "    author = \"\"\n",
    "    title = \"\"\n",
    "\n",
    "    def __init__(self, title, author):        \n",
    "        self.title = title\n",
    "        self.author = author\n",
    "\n",
    "    def display(self):        \n",
    "        return  self.title+\", written by \"+self.author\n",
    "\n",
    " "
   ]
  },
  {
   "cell_type": "code",
   "execution_count": 4,
   "metadata": {},
   "outputs": [
    {
     "name": "stdout",
     "output_type": "stream",
     "text": [
      "'Of Mice and Men', written by John Steinbeck\n",
      "'To Kill a Mockingbird', written by Harper Lee\n"
     ]
    }
   ],
   "source": [
    "book1 = Book(\"'Of Mice and Men'\",\"John Steinbeck\")\n",
    "book2 = Book(\"'To Kill a Mockingbird'\",\"Harper Lee\")\n",
    "\n",
    "print(book1.display())\n",
    "print(book2.display())"
   ]
  },
  {
   "cell_type": "code",
   "execution_count": null,
   "metadata": {},
   "outputs": [],
   "source": []
  }
 ],
 "metadata": {
  "kernelspec": {
   "display_name": "Python 3",
   "language": "python",
   "name": "python3"
  },
  "language_info": {
   "codemirror_mode": {
    "name": "ipython",
    "version": 3
   },
   "file_extension": ".py",
   "mimetype": "text/x-python",
   "name": "python",
   "nbconvert_exporter": "python",
   "pygments_lexer": "ipython3",
   "version": "3.7.1"
  }
 },
 "nbformat": 4,
 "nbformat_minor": 2
}
